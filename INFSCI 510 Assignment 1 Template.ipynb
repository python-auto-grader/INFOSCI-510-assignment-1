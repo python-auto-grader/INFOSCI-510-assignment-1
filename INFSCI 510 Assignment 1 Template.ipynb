{
 "cells": [
  {
   "cell_type": "code",
   "execution_count": 2,
   "id": "6853f2a6",
   "metadata": {},
   "outputs": [],
   "source": [
    "import pandas as pd"
   ]
  },
  {
   "cell_type": "markdown",
   "id": "2008671d",
   "metadata": {},
   "source": [
    "**Task 0:** \n",
    "* Download the data file from https://drive.google.com/file/d/1rcRUS4Cz2ZsnOkBYVm-ipjrHPTkiPPgY/view?usp=sharing \n",
    "* Open the data file in Pandas"
   ]
  },
  {
   "cell_type": "code",
   "execution_count": 12,
   "id": "5e935b91",
   "metadata": {},
   "outputs": [
    {
     "data": {
      "text/html": [
       "<div>\n",
       "<style scoped>\n",
       "    .dataframe tbody tr th:only-of-type {\n",
       "        vertical-align: middle;\n",
       "    }\n",
       "\n",
       "    .dataframe tbody tr th {\n",
       "        vertical-align: top;\n",
       "    }\n",
       "\n",
       "    .dataframe thead th {\n",
       "        text-align: right;\n",
       "    }\n",
       "</style>\n",
       "<table border=\"1\" class=\"dataframe\">\n",
       "  <thead>\n",
       "    <tr style=\"text-align: right;\">\n",
       "      <th></th>\n",
       "      <th>State</th>\n",
       "      <th>Year</th>\n",
       "      <th>Deaths</th>\n",
       "      <th>Population</th>\n",
       "      <th>Crude Rate</th>\n",
       "      <th>Crude Rate Lower 95% Confidence Interval</th>\n",
       "      <th>Crude Rate Upper 95% Confidence Interval</th>\n",
       "    </tr>\n",
       "  </thead>\n",
       "  <tbody>\n",
       "    <tr>\n",
       "      <th>0</th>\n",
       "      <td>Alabama</td>\n",
       "      <td>1999</td>\n",
       "      <td>39</td>\n",
       "      <td>4430141</td>\n",
       "      <td>0.9</td>\n",
       "      <td>0.6</td>\n",
       "      <td>1.2</td>\n",
       "    </tr>\n",
       "    <tr>\n",
       "      <th>1</th>\n",
       "      <td>Alabama</td>\n",
       "      <td>2000</td>\n",
       "      <td>46</td>\n",
       "      <td>4447100</td>\n",
       "      <td>1</td>\n",
       "      <td>0.8</td>\n",
       "      <td>1.4</td>\n",
       "    </tr>\n",
       "    <tr>\n",
       "      <th>2</th>\n",
       "      <td>Alabama</td>\n",
       "      <td>2001</td>\n",
       "      <td>67</td>\n",
       "      <td>4467634</td>\n",
       "      <td>1.5</td>\n",
       "      <td>1.2</td>\n",
       "      <td>1.9</td>\n",
       "    </tr>\n",
       "    <tr>\n",
       "      <th>3</th>\n",
       "      <td>Alabama</td>\n",
       "      <td>2002</td>\n",
       "      <td>75</td>\n",
       "      <td>4480089</td>\n",
       "      <td>1.7</td>\n",
       "      <td>1.3</td>\n",
       "      <td>2.1</td>\n",
       "    </tr>\n",
       "    <tr>\n",
       "      <th>4</th>\n",
       "      <td>Alabama</td>\n",
       "      <td>2003</td>\n",
       "      <td>54</td>\n",
       "      <td>4503491</td>\n",
       "      <td>1.2</td>\n",
       "      <td>0.9</td>\n",
       "      <td>1.6</td>\n",
       "    </tr>\n",
       "  </tbody>\n",
       "</table>\n",
       "</div>"
      ],
      "text/plain": [
       "     State  Year Deaths  Population Crude Rate  \\\n",
       "0  Alabama  1999     39     4430141        0.9   \n",
       "1  Alabama  2000     46     4447100          1   \n",
       "2  Alabama  2001     67     4467634        1.5   \n",
       "3  Alabama  2002     75     4480089        1.7   \n",
       "4  Alabama  2003     54     4503491        1.2   \n",
       "\n",
       "  Crude Rate Lower 95% Confidence Interval  \\\n",
       "0                                      0.6   \n",
       "1                                      0.8   \n",
       "2                                      1.2   \n",
       "3                                      1.3   \n",
       "4                                      0.9   \n",
       "\n",
       "  Crude Rate Upper 95% Confidence Interval  \n",
       "0                                      1.2  \n",
       "1                                      1.4  \n",
       "2                                      1.9  \n",
       "3                                      2.1  \n",
       "4                                      1.6  "
      ]
     },
     "execution_count": 12,
     "metadata": {},
     "output_type": "execute_result"
    }
   ],
   "source": [
    "df = pd.read_csv('Multiple Cause of Death, 1999-2014.csv')\n",
    "df.head()"
   ]
  },
  {
   "cell_type": "markdown",
   "id": "ecc3f371",
   "metadata": {},
   "source": [
    "**Task 1:**   \n",
    "* Rename dataframe columns in such a way so that all spaces are replaced with underscores.  You MUST use Python to rename the columns - do NOT simply open the data file in Excel and rename columns manually.\n",
    "* Save the resulting dataframe in a file called \"task1.csv\"\n"
   ]
  },
  {
   "cell_type": "code",
   "execution_count": 13,
   "id": "b7d10abe",
   "metadata": {},
   "outputs": [],
   "source": [
    "# Task 1 solution\n",
    "for col in df.columns:\n",
    "    df.rename({col : col.replace(' ', '_')}, axis=1, inplace=True)\n",
    "\n",
    "df.to_csv('task1.csv')"
   ]
  },
  {
   "cell_type": "markdown",
   "id": "86f6e4c0",
   "metadata": {},
   "source": [
    "**Task 2:   Clean the data**\n",
    "* Check each columns datatypes\n",
    "* Open the spreadsheet in Excel and examine why columns such as \"Deaths\" are not being recognized as numeric\n",
    "* Remove all rows from the dataset where \"Deaths\" is marked as \"Suppressed\" or \"CrudeRate\" is marked as \"Unreliable\". Hint: Select all rows where Deaths != \"Suppressed\" and \"CrudeRate\" != \"Unreliable\"\n",
    "* Convert \"Deaths\" and \"CrudeRate\" to numeric values\n",
    "* Save the resulting dataframe in a file called \"task2.csv\""
   ]
  },
  {
   "cell_type": "code",
   "execution_count": 25,
   "id": "dcf0833c",
   "metadata": {},
   "outputs": [],
   "source": [
    "# Task 2 solution\n",
    "df = df.query('Deaths != \"Suppressed\" and Crude_Rate != \"Unreliable\"')\n",
    "df['Deaths'] = df['Deaths'].astype('int64')\n",
    "df['Crude_Rate'] = df['Crude_Rate'].astype('float')\n",
    "df.to_csv('task2.csv')"
   ]
  },
  {
   "cell_type": "markdown",
   "id": "64fe781a",
   "metadata": {},
   "source": [
    "**Task 3:**  \n",
    "* Write a query to find all states and years where the number of deaths exceeded 2000 deaths per year. \n",
    "* In your results, only show State and Year columns\n",
    "* Save the resulting dataframe in a file called \"task3.csv\"\n",
    "\n",
    "\n"
   ]
  },
  {
   "cell_type": "code",
   "execution_count": 26,
   "id": "66a6989a",
   "metadata": {},
   "outputs": [
    {
     "data": {
      "text/html": [
       "<div>\n",
       "<style scoped>\n",
       "    .dataframe tbody tr th:only-of-type {\n",
       "        vertical-align: middle;\n",
       "    }\n",
       "\n",
       "    .dataframe tbody tr th {\n",
       "        vertical-align: top;\n",
       "    }\n",
       "\n",
       "    .dataframe thead th {\n",
       "        text-align: right;\n",
       "    }\n",
       "</style>\n",
       "<table border=\"1\" class=\"dataframe\">\n",
       "  <thead>\n",
       "    <tr style=\"text-align: right;\">\n",
       "      <th></th>\n",
       "      <th>State</th>\n",
       "      <th>Year</th>\n",
       "      <th>Deaths</th>\n",
       "      <th>Population</th>\n",
       "      <th>Crude_Rate</th>\n",
       "      <th>Crude_Rate_Lower_95%_Confidence_Interval</th>\n",
       "      <th>Crude_Rate_Upper_95%_Confidence_Interval</th>\n",
       "    </tr>\n",
       "  </thead>\n",
       "  <tbody>\n",
       "    <tr>\n",
       "      <th>0</th>\n",
       "      <td>Alabama</td>\n",
       "      <td>1999</td>\n",
       "      <td>39</td>\n",
       "      <td>4430141</td>\n",
       "      <td>0.9</td>\n",
       "      <td>0.6</td>\n",
       "      <td>1.2</td>\n",
       "    </tr>\n",
       "    <tr>\n",
       "      <th>1</th>\n",
       "      <td>Alabama</td>\n",
       "      <td>2000</td>\n",
       "      <td>46</td>\n",
       "      <td>4447100</td>\n",
       "      <td>1.0</td>\n",
       "      <td>0.8</td>\n",
       "      <td>1.4</td>\n",
       "    </tr>\n",
       "    <tr>\n",
       "      <th>2</th>\n",
       "      <td>Alabama</td>\n",
       "      <td>2001</td>\n",
       "      <td>67</td>\n",
       "      <td>4467634</td>\n",
       "      <td>1.5</td>\n",
       "      <td>1.2</td>\n",
       "      <td>1.9</td>\n",
       "    </tr>\n",
       "    <tr>\n",
       "      <th>3</th>\n",
       "      <td>Alabama</td>\n",
       "      <td>2002</td>\n",
       "      <td>75</td>\n",
       "      <td>4480089</td>\n",
       "      <td>1.7</td>\n",
       "      <td>1.3</td>\n",
       "      <td>2.1</td>\n",
       "    </tr>\n",
       "    <tr>\n",
       "      <th>4</th>\n",
       "      <td>Alabama</td>\n",
       "      <td>2003</td>\n",
       "      <td>54</td>\n",
       "      <td>4503491</td>\n",
       "      <td>1.2</td>\n",
       "      <td>0.9</td>\n",
       "      <td>1.6</td>\n",
       "    </tr>\n",
       "  </tbody>\n",
       "</table>\n",
       "</div>"
      ],
      "text/plain": [
       "     State  Year  Deaths  Population  Crude_Rate  \\\n",
       "0  Alabama  1999      39     4430141         0.9   \n",
       "1  Alabama  2000      46     4447100         1.0   \n",
       "2  Alabama  2001      67     4467634         1.5   \n",
       "3  Alabama  2002      75     4480089         1.7   \n",
       "4  Alabama  2003      54     4503491         1.2   \n",
       "\n",
       "  Crude_Rate_Lower_95%_Confidence_Interval  \\\n",
       "0                                      0.6   \n",
       "1                                      0.8   \n",
       "2                                      1.2   \n",
       "3                                      1.3   \n",
       "4                                      0.9   \n",
       "\n",
       "  Crude_Rate_Upper_95%_Confidence_Interval  \n",
       "0                                      1.2  \n",
       "1                                      1.4  \n",
       "2                                      1.9  \n",
       "3                                      2.1  \n",
       "4                                      1.6  "
      ]
     },
     "execution_count": 26,
     "metadata": {},
     "output_type": "execute_result"
    }
   ],
   "source": [
    "df.head()"
   ]
  },
  {
   "cell_type": "code",
   "execution_count": 29,
   "id": "fe926732",
   "metadata": {},
   "outputs": [],
   "source": [
    "# Task 3 solution\n",
    "df.query(\"Deaths > 2000\")[['State','Year']].to_csv('task3.csv')"
   ]
  },
  {
   "cell_type": "markdown",
   "id": "0e3d3fe0",
   "metadata": {},
   "source": [
    "**Task 4:** \n",
    "* Write a query to summarize (group) the total number of deaths per each state across all years. \n",
    "* In your results, show only the State and Total columns, where the Total column contains the sum of all deaths for a given state. \n",
    "    * Hint: you will need to use Pandas' groupby() function and aggregate using sum.\n",
    "* Save the resulting dataframe in a file called \"task4.csv\"\n"
   ]
  },
  {
   "cell_type": "code",
   "execution_count": 37,
   "id": "4a350adf",
   "metadata": {},
   "outputs": [],
   "source": [
    "# Task 4 solution\n",
    "temp = df[['State','Deaths']].groupby('State').agg({'Deaths':'sum'})\n",
    "temp.reset_index(inplace=True)\n",
    "temp.columns = ['State','Total']\n",
    "temp.to_csv('task4.csv')"
   ]
  },
  {
   "cell_type": "markdown",
   "id": "e16100ac",
   "metadata": {},
   "source": [
    "**Task 5:**  \n",
    "* Find all rows where the name of the state begins with the letter 'A'\n",
    "* Save your resulting dataframe in a file called \"task5.csv\""
   ]
  },
  {
   "cell_type": "code",
   "execution_count": 39,
   "id": "fe7775db",
   "metadata": {},
   "outputs": [],
   "source": [
    "temp = df[df['State'].str.startswith('A')]\n",
    "temp.to_csv('task5.csv')"
   ]
  },
  {
   "cell_type": "markdown",
   "id": "d40ded69",
   "metadata": {},
   "source": [
    "**Task 6:**  \n",
    "* Write a query to find the top five states with the largest population in any given year. \n",
    "* In your results, only show State and Population. \n",
    "    * Hint: use the groupby() function to group by State, and aggregate by population using \"max\".\n",
    "* Save your resulting dataframe in a file called \"task6.csv\""
   ]
  },
  {
   "cell_type": "code",
   "execution_count": 55,
   "id": "8c89534c",
   "metadata": {},
   "outputs": [],
   "source": [
    "temp = df[['State', 'Population']].groupby(['State']).agg({'Population': 'max'})\n",
    "temp.reset_index(inplace=True)\n",
    "temp.sort_values('Population', ascending=False).head().to_csv('task6.csv')\n",
    "#temp.to_csv('task6.csv')"
   ]
  },
  {
   "cell_type": "markdown",
   "id": "fe16ce4f",
   "metadata": {},
   "source": [
    "**Task 7:**  \n",
    "* Using results from Task 6, write a query to find five years with the highest numbers of deaths for the state with the highest population. \n",
    "* In your results, show only \"Year\" and \"Deaths\"\n",
    "* Save your resulting dataframe in a file called \"task7.csv\""
   ]
  },
  {
   "cell_type": "code",
   "execution_count": 56,
   "id": "a478facd",
   "metadata": {},
   "outputs": [],
   "source": [
    "temp = df.query('State in [\"California\",\"Texas\",\"Florida\",\"New York\",\"Illinois\"]').groupby('Year').agg({\"Deaths\":\"max\"})\n",
    "temp.reset_index().sort_values('Deaths', ascending=False).head(5).to_csv('task7.csv')"
   ]
  },
  {
   "cell_type": "code",
   "execution_count": null,
   "id": "6274768b",
   "metadata": {},
   "outputs": [],
   "source": []
  }
 ],
 "metadata": {
  "kernelspec": {
   "display_name": "Python 3 (ipykernel)",
   "language": "python",
   "name": "python3"
  },
  "language_info": {
   "codemirror_mode": {
    "name": "ipython",
    "version": 3
   },
   "file_extension": ".py",
   "mimetype": "text/x-python",
   "name": "python",
   "nbconvert_exporter": "python",
   "pygments_lexer": "ipython3",
   "version": "3.9.13"
  }
 },
 "nbformat": 4,
 "nbformat_minor": 5
}
